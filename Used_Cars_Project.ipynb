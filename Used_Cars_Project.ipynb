{
  "nbformat": 4,
  "nbformat_minor": 0,
  "metadata": {
    "colab": {
      "provenance": [],
      "include_colab_link": true
    },
    "kernelspec": {
      "name": "python3",
      "display_name": "Python 3"
    },
    "language_info": {
      "name": "python"
    }
  },
  "cells": [
    {
      "cell_type": "markdown",
      "metadata": {
        "id": "view-in-github",
        "colab_type": "text"
      },
      "source": [
        "<a href=\"https://colab.research.google.com/github/stutinarain/Used-Cars/blob/main/Used_Cars_Project.ipynb\" target=\"_parent\"><img src=\"https://colab.research.google.com/assets/colab-badge.svg\" alt=\"Open In Colab\"/></a>"
      ]
    },
    {
      "cell_type": "code",
      "execution_count": null,
      "metadata": {
        "colab": {
          "base_uri": "https://localhost:8080/"
        },
        "id": "-xSXzd9kPV-N",
        "outputId": "40d14f80-cea6-4997-9417-e2246a5893bd"
      },
      "outputs": [
        {
          "output_type": "stream",
          "name": "stdout",
          "text": [
            "--2023-07-01 15:18:46--  https://www.dropbox.com/s/orgpg0p6s0s3vqr/autos.csv?dl=0\n",
            "Resolving www.dropbox.com (www.dropbox.com)... 162.125.1.18, 2620:100:6016:18::a27d:112\n",
            "Connecting to www.dropbox.com (www.dropbox.com)|162.125.1.18|:443... connected.\n",
            "HTTP request sent, awaiting response... 302 Found\n",
            "Location: /s/raw/orgpg0p6s0s3vqr/autos.csv [following]\n",
            "--2023-07-01 15:18:46--  https://www.dropbox.com/s/raw/orgpg0p6s0s3vqr/autos.csv\n",
            "Reusing existing connection to www.dropbox.com:443.\n",
            "HTTP request sent, awaiting response... 302 Found\n",
            "Location: https://uc895a55fd6e6c173861f2e8bded.dl.dropboxusercontent.com/cd/0/inline/B_CA1mExY-Re3KpWimtOSfQ5Y4tZ_WOB1sgAqJ1EolIJIcN_Am2Kz4OA044iHE4_mSxHv0f977hiyvHRAMMcbg5Ou855Sf2j0cPyQgSkdCwwFRIOHWRkoO69qJKW7lQ9uswUJQCPbKWKuxE2I-_auAUFLsBwuOCFGBcfSpDaSaZQRw/file# [following]\n",
            "--2023-07-01 15:18:47--  https://uc895a55fd6e6c173861f2e8bded.dl.dropboxusercontent.com/cd/0/inline/B_CA1mExY-Re3KpWimtOSfQ5Y4tZ_WOB1sgAqJ1EolIJIcN_Am2Kz4OA044iHE4_mSxHv0f977hiyvHRAMMcbg5Ou855Sf2j0cPyQgSkdCwwFRIOHWRkoO69qJKW7lQ9uswUJQCPbKWKuxE2I-_auAUFLsBwuOCFGBcfSpDaSaZQRw/file\n",
            "Resolving uc895a55fd6e6c173861f2e8bded.dl.dropboxusercontent.com (uc895a55fd6e6c173861f2e8bded.dl.dropboxusercontent.com)... 162.125.1.15, 2620:100:6023:15::a27d:430f\n",
            "Connecting to uc895a55fd6e6c173861f2e8bded.dl.dropboxusercontent.com (uc895a55fd6e6c173861f2e8bded.dl.dropboxusercontent.com)|162.125.1.15|:443... connected.\n",
            "HTTP request sent, awaiting response... 200 OK\n",
            "Length: 70957403 (68M) [text/plain]\n",
            "Saving to: ‘autos.csv?dl=0.1’\n",
            "\n",
            "autos.csv?dl=0.1    100%[===================>]  67.67M   224MB/s    in 0.3s    \n",
            "\n",
            "2023-07-01 15:18:47 (224 MB/s) - ‘autos.csv?dl=0.1’ saved [70957403/70957403]\n",
            "\n"
          ]
        }
      ],
      "source": [
        "!wget https://www.dropbox.com/s/orgpg0p6s0s3vqr/autos.csv?dl=0"
      ]
    },
    {
      "cell_type": "code",
      "source": [
        "import pandas as pd\n",
        "import numpy as np\n",
        "\n",
        "import matplotlib.pyplot as plt\n",
        "import seaborn as sns\n",
        "\n",
        "import warnings\n",
        "warnings.filterwarnings(\"ignore\")\n"
      ],
      "metadata": {
        "id": "hTMpbiKNPayT"
      },
      "execution_count": null,
      "outputs": []
    },
    {
      "cell_type": "code",
      "source": [
        "data = pd.read_csv(\"autos.csv?dl=0.1\")"
      ],
      "metadata": {
        "id": "aSVjPeyrPavv"
      },
      "execution_count": null,
      "outputs": []
    },
    {
      "cell_type": "code",
      "source": [
        "type(data)"
      ],
      "metadata": {
        "colab": {
          "base_uri": "https://localhost:8080/"
        },
        "id": "up1ca53ZPauF",
        "outputId": "bf875c6c-0e5a-4482-92c2-87b7b8ec9dcc"
      },
      "execution_count": null,
      "outputs": [
        {
          "output_type": "execute_result",
          "data": {
            "text/plain": [
              "pandas.core.frame.DataFrame"
            ]
          },
          "metadata": {},
          "execution_count": 10
        }
      ]
    },
    {
      "cell_type": "code",
      "source": [
        "data.shape"
      ],
      "metadata": {
        "colab": {
          "base_uri": "https://localhost:8080/"
        },
        "id": "n4XiQlULPar7",
        "outputId": "0c093d97-b6f2-4ffd-d3c0-7b2b7d3775d6"
      },
      "execution_count": null,
      "outputs": [
        {
          "output_type": "execute_result",
          "data": {
            "text/plain": [
              "(371528, 21)"
            ]
          },
          "metadata": {},
          "execution_count": 11
        }
      ]
    },
    {
      "cell_type": "code",
      "source": [
        "data.columns"
      ],
      "metadata": {
        "colab": {
          "base_uri": "https://localhost:8080/"
        },
        "id": "hz9O2-MTPap_",
        "outputId": "b9de9bda-a62d-4946-ea64-3aa392f4e40c"
      },
      "execution_count": null,
      "outputs": [
        {
          "output_type": "execute_result",
          "data": {
            "text/plain": [
              "Index(['index', 'dateCrawled', 'name', 'seller', 'offerType', 'price',\n",
              "       'abtest', 'vehicleType', 'yearOfRegistration', 'gearbox', 'powerPS',\n",
              "       'model', 'kilometer', 'monthOfRegistration', 'fuelType', 'brand',\n",
              "       'notRepairedDamage', 'dateCreated', 'nrOfPictures', 'postalCode',\n",
              "       'lastSeen'],\n",
              "      dtype='object')"
            ]
          },
          "metadata": {},
          "execution_count": 12
        }
      ]
    },
    {
      "cell_type": "code",
      "source": [
        "data.head()"
      ],
      "metadata": {
        "colab": {
          "base_uri": "https://localhost:8080/",
          "height": 473
        },
        "id": "8tTTGMLUPanq",
        "outputId": "1cc980bb-1d38-4975-c550-48752865ee1d"
      },
      "execution_count": null,
      "outputs": [
        {
          "output_type": "execute_result",
          "data": {
            "text/plain": [
              "   index          dateCrawled                            name  seller  \\\n",
              "0      0  2016-03-24 11:52:17                      Golf_3_1.6  privat   \n",
              "1      1  2016-03-24 10:58:45            A5_Sportback_2.7_Tdi  privat   \n",
              "2      2  2016-03-14 12:52:21  Jeep_Grand_Cherokee_\"Overland\"  privat   \n",
              "3      3  2016-03-17 16:54:04              GOLF_4_1_4__3TÜRER  privat   \n",
              "4      4  2016-03-31 17:25:20  Skoda_Fabia_1.4_TDI_PD_Classic  privat   \n",
              "\n",
              "  offerType  price abtest vehicleType  yearOfRegistration    gearbox  ...  \\\n",
              "0   Angebot    480   test         NaN                1993    manuell  ...   \n",
              "1   Angebot  18300   test       coupe                2011    manuell  ...   \n",
              "2   Angebot   9800   test         suv                2004  automatik  ...   \n",
              "3   Angebot   1500   test  kleinwagen                2001    manuell  ...   \n",
              "4   Angebot   3600   test  kleinwagen                2008    manuell  ...   \n",
              "\n",
              "   model kilometer  monthOfRegistration  fuelType       brand  \\\n",
              "0   golf    150000                    0    benzin  volkswagen   \n",
              "1    NaN    125000                    5    diesel        audi   \n",
              "2  grand    125000                    8    diesel        jeep   \n",
              "3   golf    150000                    6    benzin  volkswagen   \n",
              "4  fabia     90000                    7    diesel       skoda   \n",
              "\n",
              "  notRepairedDamage          dateCreated nrOfPictures  postalCode  \\\n",
              "0               NaN  2016-03-24 00:00:00            0       70435   \n",
              "1                ja  2016-03-24 00:00:00            0       66954   \n",
              "2               NaN  2016-03-14 00:00:00            0       90480   \n",
              "3              nein  2016-03-17 00:00:00            0       91074   \n",
              "4              nein  2016-03-31 00:00:00            0       60437   \n",
              "\n",
              "              lastSeen  \n",
              "0  2016-04-07 03:16:57  \n",
              "1  2016-04-07 01:46:50  \n",
              "2  2016-04-05 12:47:46  \n",
              "3  2016-03-17 17:40:17  \n",
              "4  2016-04-06 10:17:21  \n",
              "\n",
              "[5 rows x 21 columns]"
            ],
            "text/html": [
              "\n",
              "  <div id=\"df-f9e3ee0b-2f5d-426b-8d13-248bb5a2313c\">\n",
              "    <div class=\"colab-df-container\">\n",
              "      <div>\n",
              "<style scoped>\n",
              "    .dataframe tbody tr th:only-of-type {\n",
              "        vertical-align: middle;\n",
              "    }\n",
              "\n",
              "    .dataframe tbody tr th {\n",
              "        vertical-align: top;\n",
              "    }\n",
              "\n",
              "    .dataframe thead th {\n",
              "        text-align: right;\n",
              "    }\n",
              "</style>\n",
              "<table border=\"1\" class=\"dataframe\">\n",
              "  <thead>\n",
              "    <tr style=\"text-align: right;\">\n",
              "      <th></th>\n",
              "      <th>index</th>\n",
              "      <th>dateCrawled</th>\n",
              "      <th>name</th>\n",
              "      <th>seller</th>\n",
              "      <th>offerType</th>\n",
              "      <th>price</th>\n",
              "      <th>abtest</th>\n",
              "      <th>vehicleType</th>\n",
              "      <th>yearOfRegistration</th>\n",
              "      <th>gearbox</th>\n",
              "      <th>...</th>\n",
              "      <th>model</th>\n",
              "      <th>kilometer</th>\n",
              "      <th>monthOfRegistration</th>\n",
              "      <th>fuelType</th>\n",
              "      <th>brand</th>\n",
              "      <th>notRepairedDamage</th>\n",
              "      <th>dateCreated</th>\n",
              "      <th>nrOfPictures</th>\n",
              "      <th>postalCode</th>\n",
              "      <th>lastSeen</th>\n",
              "    </tr>\n",
              "  </thead>\n",
              "  <tbody>\n",
              "    <tr>\n",
              "      <th>0</th>\n",
              "      <td>0</td>\n",
              "      <td>2016-03-24 11:52:17</td>\n",
              "      <td>Golf_3_1.6</td>\n",
              "      <td>privat</td>\n",
              "      <td>Angebot</td>\n",
              "      <td>480</td>\n",
              "      <td>test</td>\n",
              "      <td>NaN</td>\n",
              "      <td>1993</td>\n",
              "      <td>manuell</td>\n",
              "      <td>...</td>\n",
              "      <td>golf</td>\n",
              "      <td>150000</td>\n",
              "      <td>0</td>\n",
              "      <td>benzin</td>\n",
              "      <td>volkswagen</td>\n",
              "      <td>NaN</td>\n",
              "      <td>2016-03-24 00:00:00</td>\n",
              "      <td>0</td>\n",
              "      <td>70435</td>\n",
              "      <td>2016-04-07 03:16:57</td>\n",
              "    </tr>\n",
              "    <tr>\n",
              "      <th>1</th>\n",
              "      <td>1</td>\n",
              "      <td>2016-03-24 10:58:45</td>\n",
              "      <td>A5_Sportback_2.7_Tdi</td>\n",
              "      <td>privat</td>\n",
              "      <td>Angebot</td>\n",
              "      <td>18300</td>\n",
              "      <td>test</td>\n",
              "      <td>coupe</td>\n",
              "      <td>2011</td>\n",
              "      <td>manuell</td>\n",
              "      <td>...</td>\n",
              "      <td>NaN</td>\n",
              "      <td>125000</td>\n",
              "      <td>5</td>\n",
              "      <td>diesel</td>\n",
              "      <td>audi</td>\n",
              "      <td>ja</td>\n",
              "      <td>2016-03-24 00:00:00</td>\n",
              "      <td>0</td>\n",
              "      <td>66954</td>\n",
              "      <td>2016-04-07 01:46:50</td>\n",
              "    </tr>\n",
              "    <tr>\n",
              "      <th>2</th>\n",
              "      <td>2</td>\n",
              "      <td>2016-03-14 12:52:21</td>\n",
              "      <td>Jeep_Grand_Cherokee_\"Overland\"</td>\n",
              "      <td>privat</td>\n",
              "      <td>Angebot</td>\n",
              "      <td>9800</td>\n",
              "      <td>test</td>\n",
              "      <td>suv</td>\n",
              "      <td>2004</td>\n",
              "      <td>automatik</td>\n",
              "      <td>...</td>\n",
              "      <td>grand</td>\n",
              "      <td>125000</td>\n",
              "      <td>8</td>\n",
              "      <td>diesel</td>\n",
              "      <td>jeep</td>\n",
              "      <td>NaN</td>\n",
              "      <td>2016-03-14 00:00:00</td>\n",
              "      <td>0</td>\n",
              "      <td>90480</td>\n",
              "      <td>2016-04-05 12:47:46</td>\n",
              "    </tr>\n",
              "    <tr>\n",
              "      <th>3</th>\n",
              "      <td>3</td>\n",
              "      <td>2016-03-17 16:54:04</td>\n",
              "      <td>GOLF_4_1_4__3TÜRER</td>\n",
              "      <td>privat</td>\n",
              "      <td>Angebot</td>\n",
              "      <td>1500</td>\n",
              "      <td>test</td>\n",
              "      <td>kleinwagen</td>\n",
              "      <td>2001</td>\n",
              "      <td>manuell</td>\n",
              "      <td>...</td>\n",
              "      <td>golf</td>\n",
              "      <td>150000</td>\n",
              "      <td>6</td>\n",
              "      <td>benzin</td>\n",
              "      <td>volkswagen</td>\n",
              "      <td>nein</td>\n",
              "      <td>2016-03-17 00:00:00</td>\n",
              "      <td>0</td>\n",
              "      <td>91074</td>\n",
              "      <td>2016-03-17 17:40:17</td>\n",
              "    </tr>\n",
              "    <tr>\n",
              "      <th>4</th>\n",
              "      <td>4</td>\n",
              "      <td>2016-03-31 17:25:20</td>\n",
              "      <td>Skoda_Fabia_1.4_TDI_PD_Classic</td>\n",
              "      <td>privat</td>\n",
              "      <td>Angebot</td>\n",
              "      <td>3600</td>\n",
              "      <td>test</td>\n",
              "      <td>kleinwagen</td>\n",
              "      <td>2008</td>\n",
              "      <td>manuell</td>\n",
              "      <td>...</td>\n",
              "      <td>fabia</td>\n",
              "      <td>90000</td>\n",
              "      <td>7</td>\n",
              "      <td>diesel</td>\n",
              "      <td>skoda</td>\n",
              "      <td>nein</td>\n",
              "      <td>2016-03-31 00:00:00</td>\n",
              "      <td>0</td>\n",
              "      <td>60437</td>\n",
              "      <td>2016-04-06 10:17:21</td>\n",
              "    </tr>\n",
              "  </tbody>\n",
              "</table>\n",
              "<p>5 rows × 21 columns</p>\n",
              "</div>\n",
              "      <button class=\"colab-df-convert\" onclick=\"convertToInteractive('df-f9e3ee0b-2f5d-426b-8d13-248bb5a2313c')\"\n",
              "              title=\"Convert this dataframe to an interactive table.\"\n",
              "              style=\"display:none;\">\n",
              "        \n",
              "  <svg xmlns=\"http://www.w3.org/2000/svg\" height=\"24px\"viewBox=\"0 0 24 24\"\n",
              "       width=\"24px\">\n",
              "    <path d=\"M0 0h24v24H0V0z\" fill=\"none\"/>\n",
              "    <path d=\"M18.56 5.44l.94 2.06.94-2.06 2.06-.94-2.06-.94-.94-2.06-.94 2.06-2.06.94zm-11 1L8.5 8.5l.94-2.06 2.06-.94-2.06-.94L8.5 2.5l-.94 2.06-2.06.94zm10 10l.94 2.06.94-2.06 2.06-.94-2.06-.94-.94-2.06-.94 2.06-2.06.94z\"/><path d=\"M17.41 7.96l-1.37-1.37c-.4-.4-.92-.59-1.43-.59-.52 0-1.04.2-1.43.59L10.3 9.45l-7.72 7.72c-.78.78-.78 2.05 0 2.83L4 21.41c.39.39.9.59 1.41.59.51 0 1.02-.2 1.41-.59l7.78-7.78 2.81-2.81c.8-.78.8-2.07 0-2.86zM5.41 20L4 18.59l7.72-7.72 1.47 1.35L5.41 20z\"/>\n",
              "  </svg>\n",
              "      </button>\n",
              "      \n",
              "  <style>\n",
              "    .colab-df-container {\n",
              "      display:flex;\n",
              "      flex-wrap:wrap;\n",
              "      gap: 12px;\n",
              "    }\n",
              "\n",
              "    .colab-df-convert {\n",
              "      background-color: #E8F0FE;\n",
              "      border: none;\n",
              "      border-radius: 50%;\n",
              "      cursor: pointer;\n",
              "      display: none;\n",
              "      fill: #1967D2;\n",
              "      height: 32px;\n",
              "      padding: 0 0 0 0;\n",
              "      width: 32px;\n",
              "    }\n",
              "\n",
              "    .colab-df-convert:hover {\n",
              "      background-color: #E2EBFA;\n",
              "      box-shadow: 0px 1px 2px rgba(60, 64, 67, 0.3), 0px 1px 3px 1px rgba(60, 64, 67, 0.15);\n",
              "      fill: #174EA6;\n",
              "    }\n",
              "\n",
              "    [theme=dark] .colab-df-convert {\n",
              "      background-color: #3B4455;\n",
              "      fill: #D2E3FC;\n",
              "    }\n",
              "\n",
              "    [theme=dark] .colab-df-convert:hover {\n",
              "      background-color: #434B5C;\n",
              "      box-shadow: 0px 1px 3px 1px rgba(0, 0, 0, 0.15);\n",
              "      filter: drop-shadow(0px 1px 2px rgba(0, 0, 0, 0.3));\n",
              "      fill: #FFFFFF;\n",
              "    }\n",
              "  </style>\n",
              "\n",
              "      <script>\n",
              "        const buttonEl =\n",
              "          document.querySelector('#df-f9e3ee0b-2f5d-426b-8d13-248bb5a2313c button.colab-df-convert');\n",
              "        buttonEl.style.display =\n",
              "          google.colab.kernel.accessAllowed ? 'block' : 'none';\n",
              "\n",
              "        async function convertToInteractive(key) {\n",
              "          const element = document.querySelector('#df-f9e3ee0b-2f5d-426b-8d13-248bb5a2313c');\n",
              "          const dataTable =\n",
              "            await google.colab.kernel.invokeFunction('convertToInteractive',\n",
              "                                                     [key], {});\n",
              "          if (!dataTable) return;\n",
              "\n",
              "          const docLinkHtml = 'Like what you see? Visit the ' +\n",
              "            '<a target=\"_blank\" href=https://colab.research.google.com/notebooks/data_table.ipynb>data table notebook</a>'\n",
              "            + ' to learn more about interactive tables.';\n",
              "          element.innerHTML = '';\n",
              "          dataTable['output_type'] = 'display_data';\n",
              "          await google.colab.output.renderOutput(dataTable, element);\n",
              "          const docLink = document.createElement('div');\n",
              "          docLink.innerHTML = docLinkHtml;\n",
              "          element.appendChild(docLink);\n",
              "        }\n",
              "      </script>\n",
              "    </div>\n",
              "  </div>\n",
              "  "
            ]
          },
          "metadata": {},
          "execution_count": 13
        }
      ]
    },
    {
      "cell_type": "code",
      "source": [
        "data.tail()"
      ],
      "metadata": {
        "colab": {
          "base_uri": "https://localhost:8080/",
          "height": 473
        },
        "id": "cLiHEj8CPal2",
        "outputId": "cb7bad7c-2999-4e0c-ca7b-7b3a3efad8f6"
      },
      "execution_count": null,
      "outputs": [
        {
          "output_type": "execute_result",
          "data": {
            "text/plain": [
              "         index          dateCrawled  \\\n",
              "371523  371523  2016-03-14 17:48:27   \n",
              "371524  371524  2016-03-05 19:56:21   \n",
              "371525  371525  2016-03-19 18:57:12   \n",
              "371526  371526  2016-03-20 19:41:08   \n",
              "371527  371527  2016-03-07 19:39:19   \n",
              "\n",
              "                                                name  seller offerType  price  \\\n",
              "371523                    Suche_t4___vito_ab_6_sitze  privat   Angebot   2200   \n",
              "371524         Smart_smart_leistungssteigerung_100ps  privat   Angebot   1199   \n",
              "371525            Volkswagen_Multivan_T4_TDI_7DC_UY2  privat   Angebot   9200   \n",
              "371526                        VW_Golf_Kombi_1_9l_TDI  privat   Angebot   3400   \n",
              "371527  BMW_M135i_vollausgestattet_NP_52.720____Euro  privat   Angebot  28990   \n",
              "\n",
              "         abtest vehicleType  yearOfRegistration    gearbox  ...        model  \\\n",
              "371523     test         NaN                2005        NaN  ...          NaN   \n",
              "371524     test      cabrio                2000  automatik  ...       fortwo   \n",
              "371525     test         bus                1996    manuell  ...  transporter   \n",
              "371526     test       kombi                2002    manuell  ...         golf   \n",
              "371527  control   limousine                2013    manuell  ...      m_reihe   \n",
              "\n",
              "       kilometer  monthOfRegistration  fuelType           brand  \\\n",
              "371523     20000                    1       NaN  sonstige_autos   \n",
              "371524    125000                    3    benzin           smart   \n",
              "371525    150000                    3    diesel      volkswagen   \n",
              "371526    150000                    6    diesel      volkswagen   \n",
              "371527     50000                    8    benzin             bmw   \n",
              "\n",
              "       notRepairedDamage          dateCreated nrOfPictures  postalCode  \\\n",
              "371523               NaN  2016-03-14 00:00:00            0       39576   \n",
              "371524              nein  2016-03-05 00:00:00            0       26135   \n",
              "371525              nein  2016-03-19 00:00:00            0       87439   \n",
              "371526               NaN  2016-03-20 00:00:00            0       40764   \n",
              "371527              nein  2016-03-07 00:00:00            0       73326   \n",
              "\n",
              "                   lastSeen  \n",
              "371523  2016-04-06 00:46:52  \n",
              "371524  2016-03-11 18:17:12  \n",
              "371525  2016-04-07 07:15:26  \n",
              "371526  2016-03-24 12:45:21  \n",
              "371527  2016-03-22 03:17:10  \n",
              "\n",
              "[5 rows x 21 columns]"
            ],
            "text/html": [
              "\n",
              "  <div id=\"df-77125b5c-ff62-4456-b35c-fc1d7296a232\">\n",
              "    <div class=\"colab-df-container\">\n",
              "      <div>\n",
              "<style scoped>\n",
              "    .dataframe tbody tr th:only-of-type {\n",
              "        vertical-align: middle;\n",
              "    }\n",
              "\n",
              "    .dataframe tbody tr th {\n",
              "        vertical-align: top;\n",
              "    }\n",
              "\n",
              "    .dataframe thead th {\n",
              "        text-align: right;\n",
              "    }\n",
              "</style>\n",
              "<table border=\"1\" class=\"dataframe\">\n",
              "  <thead>\n",
              "    <tr style=\"text-align: right;\">\n",
              "      <th></th>\n",
              "      <th>index</th>\n",
              "      <th>dateCrawled</th>\n",
              "      <th>name</th>\n",
              "      <th>seller</th>\n",
              "      <th>offerType</th>\n",
              "      <th>price</th>\n",
              "      <th>abtest</th>\n",
              "      <th>vehicleType</th>\n",
              "      <th>yearOfRegistration</th>\n",
              "      <th>gearbox</th>\n",
              "      <th>...</th>\n",
              "      <th>model</th>\n",
              "      <th>kilometer</th>\n",
              "      <th>monthOfRegistration</th>\n",
              "      <th>fuelType</th>\n",
              "      <th>brand</th>\n",
              "      <th>notRepairedDamage</th>\n",
              "      <th>dateCreated</th>\n",
              "      <th>nrOfPictures</th>\n",
              "      <th>postalCode</th>\n",
              "      <th>lastSeen</th>\n",
              "    </tr>\n",
              "  </thead>\n",
              "  <tbody>\n",
              "    <tr>\n",
              "      <th>371523</th>\n",
              "      <td>371523</td>\n",
              "      <td>2016-03-14 17:48:27</td>\n",
              "      <td>Suche_t4___vito_ab_6_sitze</td>\n",
              "      <td>privat</td>\n",
              "      <td>Angebot</td>\n",
              "      <td>2200</td>\n",
              "      <td>test</td>\n",
              "      <td>NaN</td>\n",
              "      <td>2005</td>\n",
              "      <td>NaN</td>\n",
              "      <td>...</td>\n",
              "      <td>NaN</td>\n",
              "      <td>20000</td>\n",
              "      <td>1</td>\n",
              "      <td>NaN</td>\n",
              "      <td>sonstige_autos</td>\n",
              "      <td>NaN</td>\n",
              "      <td>2016-03-14 00:00:00</td>\n",
              "      <td>0</td>\n",
              "      <td>39576</td>\n",
              "      <td>2016-04-06 00:46:52</td>\n",
              "    </tr>\n",
              "    <tr>\n",
              "      <th>371524</th>\n",
              "      <td>371524</td>\n",
              "      <td>2016-03-05 19:56:21</td>\n",
              "      <td>Smart_smart_leistungssteigerung_100ps</td>\n",
              "      <td>privat</td>\n",
              "      <td>Angebot</td>\n",
              "      <td>1199</td>\n",
              "      <td>test</td>\n",
              "      <td>cabrio</td>\n",
              "      <td>2000</td>\n",
              "      <td>automatik</td>\n",
              "      <td>...</td>\n",
              "      <td>fortwo</td>\n",
              "      <td>125000</td>\n",
              "      <td>3</td>\n",
              "      <td>benzin</td>\n",
              "      <td>smart</td>\n",
              "      <td>nein</td>\n",
              "      <td>2016-03-05 00:00:00</td>\n",
              "      <td>0</td>\n",
              "      <td>26135</td>\n",
              "      <td>2016-03-11 18:17:12</td>\n",
              "    </tr>\n",
              "    <tr>\n",
              "      <th>371525</th>\n",
              "      <td>371525</td>\n",
              "      <td>2016-03-19 18:57:12</td>\n",
              "      <td>Volkswagen_Multivan_T4_TDI_7DC_UY2</td>\n",
              "      <td>privat</td>\n",
              "      <td>Angebot</td>\n",
              "      <td>9200</td>\n",
              "      <td>test</td>\n",
              "      <td>bus</td>\n",
              "      <td>1996</td>\n",
              "      <td>manuell</td>\n",
              "      <td>...</td>\n",
              "      <td>transporter</td>\n",
              "      <td>150000</td>\n",
              "      <td>3</td>\n",
              "      <td>diesel</td>\n",
              "      <td>volkswagen</td>\n",
              "      <td>nein</td>\n",
              "      <td>2016-03-19 00:00:00</td>\n",
              "      <td>0</td>\n",
              "      <td>87439</td>\n",
              "      <td>2016-04-07 07:15:26</td>\n",
              "    </tr>\n",
              "    <tr>\n",
              "      <th>371526</th>\n",
              "      <td>371526</td>\n",
              "      <td>2016-03-20 19:41:08</td>\n",
              "      <td>VW_Golf_Kombi_1_9l_TDI</td>\n",
              "      <td>privat</td>\n",
              "      <td>Angebot</td>\n",
              "      <td>3400</td>\n",
              "      <td>test</td>\n",
              "      <td>kombi</td>\n",
              "      <td>2002</td>\n",
              "      <td>manuell</td>\n",
              "      <td>...</td>\n",
              "      <td>golf</td>\n",
              "      <td>150000</td>\n",
              "      <td>6</td>\n",
              "      <td>diesel</td>\n",
              "      <td>volkswagen</td>\n",
              "      <td>NaN</td>\n",
              "      <td>2016-03-20 00:00:00</td>\n",
              "      <td>0</td>\n",
              "      <td>40764</td>\n",
              "      <td>2016-03-24 12:45:21</td>\n",
              "    </tr>\n",
              "    <tr>\n",
              "      <th>371527</th>\n",
              "      <td>371527</td>\n",
              "      <td>2016-03-07 19:39:19</td>\n",
              "      <td>BMW_M135i_vollausgestattet_NP_52.720____Euro</td>\n",
              "      <td>privat</td>\n",
              "      <td>Angebot</td>\n",
              "      <td>28990</td>\n",
              "      <td>control</td>\n",
              "      <td>limousine</td>\n",
              "      <td>2013</td>\n",
              "      <td>manuell</td>\n",
              "      <td>...</td>\n",
              "      <td>m_reihe</td>\n",
              "      <td>50000</td>\n",
              "      <td>8</td>\n",
              "      <td>benzin</td>\n",
              "      <td>bmw</td>\n",
              "      <td>nein</td>\n",
              "      <td>2016-03-07 00:00:00</td>\n",
              "      <td>0</td>\n",
              "      <td>73326</td>\n",
              "      <td>2016-03-22 03:17:10</td>\n",
              "    </tr>\n",
              "  </tbody>\n",
              "</table>\n",
              "<p>5 rows × 21 columns</p>\n",
              "</div>\n",
              "      <button class=\"colab-df-convert\" onclick=\"convertToInteractive('df-77125b5c-ff62-4456-b35c-fc1d7296a232')\"\n",
              "              title=\"Convert this dataframe to an interactive table.\"\n",
              "              style=\"display:none;\">\n",
              "        \n",
              "  <svg xmlns=\"http://www.w3.org/2000/svg\" height=\"24px\"viewBox=\"0 0 24 24\"\n",
              "       width=\"24px\">\n",
              "    <path d=\"M0 0h24v24H0V0z\" fill=\"none\"/>\n",
              "    <path d=\"M18.56 5.44l.94 2.06.94-2.06 2.06-.94-2.06-.94-.94-2.06-.94 2.06-2.06.94zm-11 1L8.5 8.5l.94-2.06 2.06-.94-2.06-.94L8.5 2.5l-.94 2.06-2.06.94zm10 10l.94 2.06.94-2.06 2.06-.94-2.06-.94-.94-2.06-.94 2.06-2.06.94z\"/><path d=\"M17.41 7.96l-1.37-1.37c-.4-.4-.92-.59-1.43-.59-.52 0-1.04.2-1.43.59L10.3 9.45l-7.72 7.72c-.78.78-.78 2.05 0 2.83L4 21.41c.39.39.9.59 1.41.59.51 0 1.02-.2 1.41-.59l7.78-7.78 2.81-2.81c.8-.78.8-2.07 0-2.86zM5.41 20L4 18.59l7.72-7.72 1.47 1.35L5.41 20z\"/>\n",
              "  </svg>\n",
              "      </button>\n",
              "      \n",
              "  <style>\n",
              "    .colab-df-container {\n",
              "      display:flex;\n",
              "      flex-wrap:wrap;\n",
              "      gap: 12px;\n",
              "    }\n",
              "\n",
              "    .colab-df-convert {\n",
              "      background-color: #E8F0FE;\n",
              "      border: none;\n",
              "      border-radius: 50%;\n",
              "      cursor: pointer;\n",
              "      display: none;\n",
              "      fill: #1967D2;\n",
              "      height: 32px;\n",
              "      padding: 0 0 0 0;\n",
              "      width: 32px;\n",
              "    }\n",
              "\n",
              "    .colab-df-convert:hover {\n",
              "      background-color: #E2EBFA;\n",
              "      box-shadow: 0px 1px 2px rgba(60, 64, 67, 0.3), 0px 1px 3px 1px rgba(60, 64, 67, 0.15);\n",
              "      fill: #174EA6;\n",
              "    }\n",
              "\n",
              "    [theme=dark] .colab-df-convert {\n",
              "      background-color: #3B4455;\n",
              "      fill: #D2E3FC;\n",
              "    }\n",
              "\n",
              "    [theme=dark] .colab-df-convert:hover {\n",
              "      background-color: #434B5C;\n",
              "      box-shadow: 0px 1px 3px 1px rgba(0, 0, 0, 0.15);\n",
              "      filter: drop-shadow(0px 1px 2px rgba(0, 0, 0, 0.3));\n",
              "      fill: #FFFFFF;\n",
              "    }\n",
              "  </style>\n",
              "\n",
              "      <script>\n",
              "        const buttonEl =\n",
              "          document.querySelector('#df-77125b5c-ff62-4456-b35c-fc1d7296a232 button.colab-df-convert');\n",
              "        buttonEl.style.display =\n",
              "          google.colab.kernel.accessAllowed ? 'block' : 'none';\n",
              "\n",
              "        async function convertToInteractive(key) {\n",
              "          const element = document.querySelector('#df-77125b5c-ff62-4456-b35c-fc1d7296a232');\n",
              "          const dataTable =\n",
              "            await google.colab.kernel.invokeFunction('convertToInteractive',\n",
              "                                                     [key], {});\n",
              "          if (!dataTable) return;\n",
              "\n",
              "          const docLinkHtml = 'Like what you see? Visit the ' +\n",
              "            '<a target=\"_blank\" href=https://colab.research.google.com/notebooks/data_table.ipynb>data table notebook</a>'\n",
              "            + ' to learn more about interactive tables.';\n",
              "          element.innerHTML = '';\n",
              "          dataTable['output_type'] = 'display_data';\n",
              "          await google.colab.output.renderOutput(dataTable, element);\n",
              "          const docLink = document.createElement('div');\n",
              "          docLink.innerHTML = docLinkHtml;\n",
              "          element.appendChild(docLink);\n",
              "        }\n",
              "      </script>\n",
              "    </div>\n",
              "  </div>\n",
              "  "
            ]
          },
          "metadata": {},
          "execution_count": 14
        }
      ]
    },
    {
      "cell_type": "code",
      "source": [
        "data['dateCrawled'] = pd.to_datetime(data['dateCrawled']) # Convert the 'dateCrawled' column to datetime data type\n",
        "data['dateCreated'] = pd.to_datetime(data['dateCreated']) # Convert the 'dateCreated' column to datetime data type\n",
        "data['lastSeen'] = pd.to_datetime(data['lastSeen']) # Convert the 'lastSeen' column to datetime data type\n",
        "data['price'] = data['price'].astype(int)  # convert price to integer"
      ],
      "metadata": {
        "id": "K5J9_4h4Pajv"
      },
      "execution_count": null,
      "outputs": []
    },
    {
      "cell_type": "markdown",
      "source": [
        "Here, dateCrawled, dateCreated, lastSeen contain both date and time so we change their data type from object to date time data type. This will enable us to perform more functions on them."
      ],
      "metadata": {
        "id": "p_mMIj0cQavi"
      }
    },
    {
      "cell_type": "code",
      "source": [
        "# check for and address inconsistencies in the data\n",
        "data = data[data.price > 0]  # remove rows with 0 or negative price\n",
        "data = data[data.yearOfRegistration > 1900]  # remove rows with yearOfRegistration before 1900\n",
        "data = data[data.yearOfRegistration <= 2023]  # remove rows with yearOfRegistration after 2020\n"
      ],
      "metadata": {
        "id": "S5q5IxuBPag7"
      },
      "execution_count": null,
      "outputs": []
    },
    {
      "cell_type": "code",
      "source": [
        "data.dtypes"
      ],
      "metadata": {
        "colab": {
          "base_uri": "https://localhost:8080/"
        },
        "id": "aNWs5XO3Paek",
        "outputId": "ca082d41-ee6d-4f0d-ef01-45fdf3542a48"
      },
      "execution_count": null,
      "outputs": [
        {
          "output_type": "execute_result",
          "data": {
            "text/plain": [
              "index                           int64\n",
              "dateCrawled            datetime64[ns]\n",
              "name                           object\n",
              "seller                         object\n",
              "offerType                      object\n",
              "price                           int64\n",
              "abtest                         object\n",
              "vehicleType                    object\n",
              "yearOfRegistration              int64\n",
              "gearbox                        object\n",
              "powerPS                         int64\n",
              "model                          object\n",
              "kilometer                       int64\n",
              "monthOfRegistration             int64\n",
              "fuelType                       object\n",
              "brand                          object\n",
              "notRepairedDamage              object\n",
              "dateCreated            datetime64[ns]\n",
              "nrOfPictures                    int64\n",
              "postalCode                      int64\n",
              "lastSeen               datetime64[ns]\n",
              "dtype: object"
            ]
          },
          "metadata": {},
          "execution_count": 17
        }
      ]
    },
    {
      "cell_type": "markdown",
      "source": [
        "# **Q1.Are there any missing values in the car price and age dataset? How should these missing values be handled?**"
      ],
      "metadata": {
        "id": "1saJGA8FRPBM"
      }
    },
    {
      "cell_type": "code",
      "source": [
        "data.isna().sum()"
      ],
      "metadata": {
        "colab": {
          "base_uri": "https://localhost:8080/"
        },
        "id": "McYlf1OyPab2",
        "outputId": "255af19b-9e76-41fc-caf2-27ae3c36a96c"
      },
      "execution_count": null,
      "outputs": [
        {
          "output_type": "execute_result",
          "data": {
            "text/plain": [
              "index                      0\n",
              "dateCrawled                0\n",
              "name                       0\n",
              "seller                     0\n",
              "offerType                  0\n",
              "price                      0\n",
              "abtest                     0\n",
              "vehicleType            33977\n",
              "yearOfRegistration         0\n",
              "gearbox                17611\n",
              "powerPS                    0\n",
              "model                  18242\n",
              "kilometer                  0\n",
              "monthOfRegistration        0\n",
              "fuelType               29837\n",
              "brand                      0\n",
              "notRepairedDamage      66643\n",
              "dateCreated                0\n",
              "nrOfPictures               0\n",
              "postalCode                 0\n",
              "lastSeen                   0\n",
              "dtype: int64"
            ]
          },
          "metadata": {},
          "execution_count": 18
        }
      ]
    },
    {
      "cell_type": "markdown",
      "source": [
        "As we can see here, there are no missing values found in the car price and age(year of registration) found.\n",
        "\n",
        "If we had any missing values in those two columns, there are three ways we could have dealt with it.\n",
        "\n",
        "-drop all rows with NAN\n",
        "\n",
        "-drop column\n",
        "\n",
        "-estimate/ fill it with approx value\n",
        "\n",
        "We do not prefer the first two methods as this will disrupt the data set and we will lose a lot of data. The last method is much better as we can fill the NaN values with any othe value which we think is suitable for that particular column.\n",
        "\n"
      ],
      "metadata": {
        "id": "07sDdi2YRWzD"
      }
    },
    {
      "cell_type": "markdown",
      "source": [
        "But there are a lot of missing values in vehicleType, gearbox, model, fuelType and notrepairedDamage so let's change that."
      ],
      "metadata": {
        "id": "fEaHOStzR6hK"
      }
    },
    {
      "cell_type": "code",
      "source": [
        "#gearbox, fueltype, nrOfPictures, lastSeen, dateCrawled, name, monthOfRegistration, dateCreated, postalCode, seller, offerType is not important for our data frame so we will drop these values\n",
        "data = data.drop(columns = [\"gearbox\",\"fuelType\", \"nrOfPictures\", \"lastSeen\", \"dateCrawled\", \"name\", \"monthOfRegistration\", \"dateCreated\", \"postalCode\", \"seller\", \"offerType\"])\n",
        "data.head()"
      ],
      "metadata": {
        "colab": {
          "base_uri": "https://localhost:8080/",
          "height": 206
        },
        "id": "t_dZJhXYSKH6",
        "outputId": "aad5c401-a97a-4b42-e81e-ab8d84272dca"
      },
      "execution_count": null,
      "outputs": [
        {
          "output_type": "execute_result",
          "data": {
            "text/plain": [
              "   index  price abtest vehicleType  yearOfRegistration  powerPS  model  \\\n",
              "0      0    480   test         NaN                1993        0   golf   \n",
              "1      1  18300   test       coupe                2011      190    NaN   \n",
              "2      2   9800   test         suv                2004      163  grand   \n",
              "3      3   1500   test  kleinwagen                2001       75   golf   \n",
              "4      4   3600   test  kleinwagen                2008       69  fabia   \n",
              "\n",
              "   kilometer       brand notRepairedDamage  \n",
              "0     150000  volkswagen               NaN  \n",
              "1     125000        audi                ja  \n",
              "2     125000        jeep               NaN  \n",
              "3     150000  volkswagen              nein  \n",
              "4      90000       skoda              nein  "
            ],
            "text/html": [
              "\n",
              "  <div id=\"df-c66a03fb-fbe1-40be-b4fe-4c6c4955fadc\">\n",
              "    <div class=\"colab-df-container\">\n",
              "      <div>\n",
              "<style scoped>\n",
              "    .dataframe tbody tr th:only-of-type {\n",
              "        vertical-align: middle;\n",
              "    }\n",
              "\n",
              "    .dataframe tbody tr th {\n",
              "        vertical-align: top;\n",
              "    }\n",
              "\n",
              "    .dataframe thead th {\n",
              "        text-align: right;\n",
              "    }\n",
              "</style>\n",
              "<table border=\"1\" class=\"dataframe\">\n",
              "  <thead>\n",
              "    <tr style=\"text-align: right;\">\n",
              "      <th></th>\n",
              "      <th>index</th>\n",
              "      <th>price</th>\n",
              "      <th>abtest</th>\n",
              "      <th>vehicleType</th>\n",
              "      <th>yearOfRegistration</th>\n",
              "      <th>powerPS</th>\n",
              "      <th>model</th>\n",
              "      <th>kilometer</th>\n",
              "      <th>brand</th>\n",
              "      <th>notRepairedDamage</th>\n",
              "    </tr>\n",
              "  </thead>\n",
              "  <tbody>\n",
              "    <tr>\n",
              "      <th>0</th>\n",
              "      <td>0</td>\n",
              "      <td>480</td>\n",
              "      <td>test</td>\n",
              "      <td>NaN</td>\n",
              "      <td>1993</td>\n",
              "      <td>0</td>\n",
              "      <td>golf</td>\n",
              "      <td>150000</td>\n",
              "      <td>volkswagen</td>\n",
              "      <td>NaN</td>\n",
              "    </tr>\n",
              "    <tr>\n",
              "      <th>1</th>\n",
              "      <td>1</td>\n",
              "      <td>18300</td>\n",
              "      <td>test</td>\n",
              "      <td>coupe</td>\n",
              "      <td>2011</td>\n",
              "      <td>190</td>\n",
              "      <td>NaN</td>\n",
              "      <td>125000</td>\n",
              "      <td>audi</td>\n",
              "      <td>ja</td>\n",
              "    </tr>\n",
              "    <tr>\n",
              "      <th>2</th>\n",
              "      <td>2</td>\n",
              "      <td>9800</td>\n",
              "      <td>test</td>\n",
              "      <td>suv</td>\n",
              "      <td>2004</td>\n",
              "      <td>163</td>\n",
              "      <td>grand</td>\n",
              "      <td>125000</td>\n",
              "      <td>jeep</td>\n",
              "      <td>NaN</td>\n",
              "    </tr>\n",
              "    <tr>\n",
              "      <th>3</th>\n",
              "      <td>3</td>\n",
              "      <td>1500</td>\n",
              "      <td>test</td>\n",
              "      <td>kleinwagen</td>\n",
              "      <td>2001</td>\n",
              "      <td>75</td>\n",
              "      <td>golf</td>\n",
              "      <td>150000</td>\n",
              "      <td>volkswagen</td>\n",
              "      <td>nein</td>\n",
              "    </tr>\n",
              "    <tr>\n",
              "      <th>4</th>\n",
              "      <td>4</td>\n",
              "      <td>3600</td>\n",
              "      <td>test</td>\n",
              "      <td>kleinwagen</td>\n",
              "      <td>2008</td>\n",
              "      <td>69</td>\n",
              "      <td>fabia</td>\n",
              "      <td>90000</td>\n",
              "      <td>skoda</td>\n",
              "      <td>nein</td>\n",
              "    </tr>\n",
              "  </tbody>\n",
              "</table>\n",
              "</div>\n",
              "      <button class=\"colab-df-convert\" onclick=\"convertToInteractive('df-c66a03fb-fbe1-40be-b4fe-4c6c4955fadc')\"\n",
              "              title=\"Convert this dataframe to an interactive table.\"\n",
              "              style=\"display:none;\">\n",
              "        \n",
              "  <svg xmlns=\"http://www.w3.org/2000/svg\" height=\"24px\"viewBox=\"0 0 24 24\"\n",
              "       width=\"24px\">\n",
              "    <path d=\"M0 0h24v24H0V0z\" fill=\"none\"/>\n",
              "    <path d=\"M18.56 5.44l.94 2.06.94-2.06 2.06-.94-2.06-.94-.94-2.06-.94 2.06-2.06.94zm-11 1L8.5 8.5l.94-2.06 2.06-.94-2.06-.94L8.5 2.5l-.94 2.06-2.06.94zm10 10l.94 2.06.94-2.06 2.06-.94-2.06-.94-.94-2.06-.94 2.06-2.06.94z\"/><path d=\"M17.41 7.96l-1.37-1.37c-.4-.4-.92-.59-1.43-.59-.52 0-1.04.2-1.43.59L10.3 9.45l-7.72 7.72c-.78.78-.78 2.05 0 2.83L4 21.41c.39.39.9.59 1.41.59.51 0 1.02-.2 1.41-.59l7.78-7.78 2.81-2.81c.8-.78.8-2.07 0-2.86zM5.41 20L4 18.59l7.72-7.72 1.47 1.35L5.41 20z\"/>\n",
              "  </svg>\n",
              "      </button>\n",
              "      \n",
              "  <style>\n",
              "    .colab-df-container {\n",
              "      display:flex;\n",
              "      flex-wrap:wrap;\n",
              "      gap: 12px;\n",
              "    }\n",
              "\n",
              "    .colab-df-convert {\n",
              "      background-color: #E8F0FE;\n",
              "      border: none;\n",
              "      border-radius: 50%;\n",
              "      cursor: pointer;\n",
              "      display: none;\n",
              "      fill: #1967D2;\n",
              "      height: 32px;\n",
              "      padding: 0 0 0 0;\n",
              "      width: 32px;\n",
              "    }\n",
              "\n",
              "    .colab-df-convert:hover {\n",
              "      background-color: #E2EBFA;\n",
              "      box-shadow: 0px 1px 2px rgba(60, 64, 67, 0.3), 0px 1px 3px 1px rgba(60, 64, 67, 0.15);\n",
              "      fill: #174EA6;\n",
              "    }\n",
              "\n",
              "    [theme=dark] .colab-df-convert {\n",
              "      background-color: #3B4455;\n",
              "      fill: #D2E3FC;\n",
              "    }\n",
              "\n",
              "    [theme=dark] .colab-df-convert:hover {\n",
              "      background-color: #434B5C;\n",
              "      box-shadow: 0px 1px 3px 1px rgba(0, 0, 0, 0.15);\n",
              "      filter: drop-shadow(0px 1px 2px rgba(0, 0, 0, 0.3));\n",
              "      fill: #FFFFFF;\n",
              "    }\n",
              "  </style>\n",
              "\n",
              "      <script>\n",
              "        const buttonEl =\n",
              "          document.querySelector('#df-c66a03fb-fbe1-40be-b4fe-4c6c4955fadc button.colab-df-convert');\n",
              "        buttonEl.style.display =\n",
              "          google.colab.kernel.accessAllowed ? 'block' : 'none';\n",
              "\n",
              "        async function convertToInteractive(key) {\n",
              "          const element = document.querySelector('#df-c66a03fb-fbe1-40be-b4fe-4c6c4955fadc');\n",
              "          const dataTable =\n",
              "            await google.colab.kernel.invokeFunction('convertToInteractive',\n",
              "                                                     [key], {});\n",
              "          if (!dataTable) return;\n",
              "\n",
              "          const docLinkHtml = 'Like what you see? Visit the ' +\n",
              "            '<a target=\"_blank\" href=https://colab.research.google.com/notebooks/data_table.ipynb>data table notebook</a>'\n",
              "            + ' to learn more about interactive tables.';\n",
              "          element.innerHTML = '';\n",
              "          dataTable['output_type'] = 'display_data';\n",
              "          await google.colab.output.renderOutput(dataTable, element);\n",
              "          const docLink = document.createElement('div');\n",
              "          docLink.innerHTML = docLinkHtml;\n",
              "          element.appendChild(docLink);\n",
              "        }\n",
              "      </script>\n",
              "    </div>\n",
              "  </div>\n",
              "  "
            ]
          },
          "metadata": {},
          "execution_count": 19
        }
      ]
    },
    {
      "cell_type": "code",
      "source": [
        "most_common = data[\"notRepairedDamage\"].value_counts(ascending=False).index[0] # Find the most common value in the 'notRepairedDamage' column and assign it to the variable 'most_common'\n",
        "data[\"notRepairedDamage\"].fillna(most_common, inplace=True) # Replace missing values in notRepairedDamage column with most common value"
      ],
      "metadata": {
        "id": "AeeacWw7WZJ1"
      },
      "execution_count": null,
      "outputs": []
    },
    {
      "cell_type": "code",
      "source": [
        "data.shape"
      ],
      "metadata": {
        "colab": {
          "base_uri": "https://localhost:8080/"
        },
        "id": "trPVvYmsTxdm",
        "outputId": "31804e9b-e951-4135-885e-10b715d822f8"
      },
      "execution_count": null,
      "outputs": [
        {
          "output_type": "execute_result",
          "data": {
            "text/plain": [
              "(360600, 10)"
            ]
          },
          "metadata": {},
          "execution_count": 21
        }
      ]
    },
    {
      "cell_type": "markdown",
      "source": [
        "# **Q2. How many unique vehicle types are present in the dataset?**"
      ],
      "metadata": {
        "id": "B5dcTr5gRlew"
      }
    },
    {
      "cell_type": "code",
      "source": [
        "data[\"vehicleType\"] #extracting values from a particular column"
      ],
      "metadata": {
        "colab": {
          "base_uri": "https://localhost:8080/"
        },
        "id": "8ihd3SMoPaaD",
        "outputId": "5c34a25f-2a51-428f-d250-3e66af1ddb64"
      },
      "execution_count": null,
      "outputs": [
        {
          "output_type": "execute_result",
          "data": {
            "text/plain": [
              "0                NaN\n",
              "1              coupe\n",
              "2                suv\n",
              "3         kleinwagen\n",
              "4         kleinwagen\n",
              "             ...    \n",
              "371523           NaN\n",
              "371524        cabrio\n",
              "371525           bus\n",
              "371526         kombi\n",
              "371527     limousine\n",
              "Name: vehicleType, Length: 360600, dtype: object"
            ]
          },
          "metadata": {},
          "execution_count": 22
        }
      ]
    },
    {
      "cell_type": "markdown",
      "source": [
        "As we can see here, there are a few NaN values so let's change it.\n"
      ],
      "metadata": {
        "id": "InQqsmWeRrcN"
      }
    },
    {
      "cell_type": "code",
      "source": [
        "data = data.fillna(value = \"other\")#filling all the NaN values present in our data set with \"other\""
      ],
      "metadata": {
        "id": "GDgD74VCPaXi"
      },
      "execution_count": null,
      "outputs": []
    },
    {
      "cell_type": "code",
      "source": [
        "data.isna().sum()"
      ],
      "metadata": {
        "colab": {
          "base_uri": "https://localhost:8080/"
        },
        "id": "KJIGcwq-RxWu",
        "outputId": "3cc6819d-540a-4b27-dcce-adae07be4572"
      },
      "execution_count": null,
      "outputs": [
        {
          "output_type": "execute_result",
          "data": {
            "text/plain": [
              "index                 0\n",
              "price                 0\n",
              "abtest                0\n",
              "vehicleType           0\n",
              "yearOfRegistration    0\n",
              "powerPS               0\n",
              "model                 0\n",
              "kilometer             0\n",
              "brand                 0\n",
              "notRepairedDamage     0\n",
              "dtype: int64"
            ]
          },
          "metadata": {},
          "execution_count": 24
        }
      ]
    },
    {
      "cell_type": "code",
      "source": [
        "data[\"vehicleType\"].unique()"
      ],
      "metadata": {
        "colab": {
          "base_uri": "https://localhost:8080/"
        },
        "id": "m1xUAo9gRxUX",
        "outputId": "99e9f63c-58cb-4fe7-a693-56edb9e06e5d"
      },
      "execution_count": null,
      "outputs": [
        {
          "output_type": "execute_result",
          "data": {
            "text/plain": [
              "array(['other', 'coupe', 'suv', 'kleinwagen', 'limousine', 'cabrio',\n",
              "       'bus', 'kombi', 'andere'], dtype=object)"
            ]
          },
          "metadata": {},
          "execution_count": 25
        }
      ]
    },
    {
      "cell_type": "code",
      "source": [
        "data[\"vehicleType\"].nunique()"
      ],
      "metadata": {
        "colab": {
          "base_uri": "https://localhost:8080/"
        },
        "id": "kLkbYj0ORxSF",
        "outputId": "92389d88-0701-4683-d93d-e19edc95ece2"
      },
      "execution_count": null,
      "outputs": [
        {
          "output_type": "execute_result",
          "data": {
            "text/plain": [
              "9"
            ]
          },
          "metadata": {},
          "execution_count": 26
        }
      ]
    },
    {
      "cell_type": "code",
      "source": [
        "data[\"vehicleType\"].value_counts()"
      ],
      "metadata": {
        "colab": {
          "base_uri": "https://localhost:8080/"
        },
        "id": "53v4ISUPTgDO",
        "outputId": "3c2c76e3-416f-4dd0-cc14-207fa4f4ea8c"
      },
      "execution_count": null,
      "outputs": [
        {
          "output_type": "execute_result",
          "data": {
            "text/plain": [
              "limousine     93842\n",
              "kleinwagen    78209\n",
              "kombi         66099\n",
              "other         33977\n",
              "bus           29769\n",
              "cabrio        22560\n",
              "coupe         18487\n",
              "suv           14502\n",
              "andere         3155\n",
              "Name: vehicleType, dtype: int64"
            ]
          },
          "metadata": {},
          "execution_count": 27
        }
      ]
    },
    {
      "cell_type": "markdown",
      "source": [
        "After replacing the NaN values in vehicleType with \"other\", we can observe\n",
        "that there are a total of 9 unique vehicle types which are limousine, kleinwagen, kombi, other, bus, cabrio, coupe, suv, andere.    "
      ],
      "metadata": {
        "id": "pFvRPe2DT8ma"
      }
    },
    {
      "cell_type": "markdown",
      "source": [
        "# **Q3. Can we create visualizations to understand the realtionship between car age and prices using scatter plots or other suitable visualizations?**"
      ],
      "metadata": {
        "id": "tpy9U2nZbwuD"
      }
    },
    {
      "cell_type": "code",
      "source": [
        "# plot the relationship between the age of the vehicle and the price of the vehicle\n",
        "current_year = 2023  # replace with current year\n",
        "data['age'] = current_year - data['yearOfRegistration']\n",
        "\n",
        "# create a figure with a larger size\n",
        "plt.figure(figsize=(10, 6))\n",
        "\n",
        "# plot the relationship between the age of the vehicle and the price of the vehicle\n",
        "sns.scatterplot(x='age', y='price', data=data)\n",
        "plt.show()"
      ],
      "metadata": {
        "colab": {
          "base_uri": "https://localhost:8080/",
          "height": 557
        },
        "id": "jleW-3k2T-I6",
        "outputId": "0550bfc1-fd8b-486c-a43b-73e57e15fe6e"
      },
      "execution_count": null,
      "outputs": [
        {
          "output_type": "display_data",
          "data": {
            "text/plain": [
              "<Figure size 1000x600 with 1 Axes>"
            ],
            "image/png": "[encoded data removed]"
          },
          "metadata": {}
        }
      ]
    },
    {
      "cell_type": "markdown",
      "source": [
        "Yes, we can create visualiztions to understand the relationship between car age and prices using scatter plot or any other suitable visualiztions."
      ],
      "metadata": {
        "id": "taRzsa-ddBC3"
      }
    },
    {
      "cell_type": "code",
      "source": [
        "data = data.sort_values(by='price', ascending=False)\n",
        "\n",
        "# select the top 10 rows\n",
        "top_10_cars = data.head(10)\n",
        "\n",
        "# print the top 10 cars\n",
        "print(top_10_cars[['age','price']])"
      ],
      "metadata": {
        "colab": {
          "base_uri": "https://localhost:8080/"
        },
        "id": "2CFpsPdCT-Gc",
        "outputId": "de900897-6be7-4457-f0ad-1e6cb593897e"
      },
      "execution_count": null,
      "outputs": [
        {
          "output_type": "stream",
          "name": "stdout",
          "text": [
            "        age       price\n",
            "129969   27  2147483647\n",
            "362782   28    99999999\n",
            "127820   24    99999999\n",
            "246635   23    99999999\n",
            "268173   31    99999999\n",
            "139052   14    99999999\n",
            "325589   40    99999999\n",
            "56973    21    99999999\n",
            "280059   49    99999999\n",
            "189737   67    99999999\n"
          ]
        }
      ]
    },
    {
      "cell_type": "markdown",
      "source": [
        "# **LINEAR REGRESSION**"
      ],
      "metadata": {
        "id": "ySwexN2yx38L"
      }
    },
    {
      "cell_type": "code",
      "source": [
        "from sklearn.model_selection import train_test_split, cross_validate\n",
        "from sklearn.linear_model import LinearRegression\n",
        "from sklearn.metrics import mean_absolute_error, mean_squared_error, r2_score, make_scorer\n",
        "from sklearn import metrics\n",
        "import seaborn as sns"
      ],
      "metadata": {
        "id": "VSnpcGxWBl3K"
      },
      "execution_count": null,
      "outputs": []
    },
    {
      "cell_type": "code",
      "source": [
        "X = data[['age']]\n",
        "y = data[['price']]"
      ],
      "metadata": {
        "id": "IYVd_5jqASzp"
      },
      "execution_count": null,
      "outputs": []
    },
    {
      "cell_type": "code",
      "source": [
        "X_train, X_test, y_train, y_test = train_test_split(X, y, test_size=0.2, random_state=15)\n",
        "print(f\"Train Shape : {X_train.shape} --------- Test Shape : {X_test.shape}\")"
      ],
      "metadata": {
        "colab": {
          "base_uri": "https://localhost:8080/"
        },
        "id": "E6FBuAD9BPSU",
        "outputId": "d4a850d8-3812-423e-cdd4-cb6c1d1c1ba9"
      },
      "execution_count": null,
      "outputs": [
        {
          "output_type": "stream",
          "name": "stdout",
          "text": [
            "Train Shape : (288480, 1) --------- Test Shape : (72120, 1)\n"
          ]
        }
      ]
    },
    {
      "cell_type": "code",
      "source": [
        "# loading the linear regression model\n",
        "lin_reg_model = LinearRegression()\n",
        "# fit the model to our dataset\n",
        "lin_reg_model.fit(X_train,y_train)"
      ],
      "metadata": {
        "id": "o8V-6L_yElp7"
      },
      "execution_count": null,
      "outputs": []
    },
    {
      "cell_type": "code",
      "source": [
        "# prediction on Training data\n",
        "training_data_prediction = lin_reg_model.predict(X_train)"
      ],
      "metadata": {
        "id": "mLaP-sMDH0SL"
      },
      "execution_count": null,
      "outputs": []
    },
    {
      "cell_type": "code",
      "source": [
        "# R squared Error\n",
        "train_error_score = metrics.r2_score(y_train, training_data_prediction)\n",
        "print(\"R squared Error - Training : \", train_error_score)"
      ],
      "metadata": {
        "colab": {
          "base_uri": "https://localhost:8080/"
        },
        "id": "9UOmkJd8H9y0",
        "outputId": "df22f4ab-32f6-42b7-9efa-641efa74d7cd"
      },
      "execution_count": null,
      "outputs": [
        {
          "output_type": "stream",
          "name": "stdout",
          "text": [
            "R squared Error - Training :  7.86767747129602e-06\n"
          ]
        }
      ]
    },
    {
      "cell_type": "code",
      "source": [
        "y_pred = lin_reg_model.predict(X_test)"
      ],
      "metadata": {
        "id": "2MoYwbXPIOab"
      },
      "execution_count": null,
      "outputs": []
    },
    {
      "cell_type": "code",
      "source": [
        "test_error_score = metrics.r2_score(y_test, y_pred)\n",
        "print(\"R squared Error - Test: \", test_error_score)"
      ],
      "metadata": {
        "colab": {
          "base_uri": "https://localhost:8080/"
        },
        "id": "b4fUKTO6IbgN",
        "outputId": "70ffbd3d-9af7-4679-dcff-253e2eeb3436"
      },
      "execution_count": null,
      "outputs": [
        {
          "output_type": "stream",
          "name": "stdout",
          "text": [
            "R squared Error - Test:  -0.0003996746596142131\n"
          ]
        }
      ]
    },
    {
      "cell_type": "code",
      "source": [
        "sns.regplot(data = data, x = y_test, y = y_pred, scatter_kws={\"color\": \"green\"}, line_kws={\"color\": \"blue\"})"
      ],
      "metadata": {
        "colab": {
          "base_uri": "https://localhost:8080/",
          "height": 466
        },
        "id": "LuwA7vrSIk2Q",
        "outputId": "ddf0a54e-3f70-48d5-dc40-02b53e526056"
      },
      "execution_count": null,
      "outputs": [
        {
          "output_type": "execute_result",
          "data": {
            "text/plain": [
              "<Axes: xlabel='price'>"
            ]
          },
          "metadata": {},
          "execution_count": 58
        },
        {
          "output_type": "display_data",
          "data": {
            "text/plain": [
              "<Figure size 640x480 with 1 Axes>"
            ],
            "image/png": "[encoded data removed]"
          },
          "metadata": {}
        }
      ]
    }
  ]
}